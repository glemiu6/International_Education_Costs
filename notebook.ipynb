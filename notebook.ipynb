{
 "cells": [
  {
   "metadata": {
    "ExecuteTime": {
     "end_time": "2025-05-14T13:29:10.910431Z",
     "start_time": "2025-05-14T13:29:10.205953Z"
    }
   },
   "cell_type": "code",
   "source": [
    "import pandas as pd\n",
    "import seaborn as sns\n",
    "import matplotlib.pyplot as plt\n",
    "from sklearn.linear_model import LinearRegression\n",
    "from sklearn.preprocessing import StandardScaler"
   ],
   "id": "a0d8e4f9bf53ee68",
   "outputs": [],
   "execution_count": 1
  },
  {
   "metadata": {
    "ExecuteTime": {
     "end_time": "2025-05-14T13:29:12.175549Z",
     "start_time": "2025-05-14T13:29:12.160598Z"
    }
   },
   "cell_type": "code",
   "source": [
    "df=pd.read_csv('International_Education_Costs.csv')\n",
    "df.head()\n",
    "df2=df.copy()\n",
    "df"
   ],
   "id": "98f06a6f59ed3a8d",
   "outputs": [
    {
     "data": {
      "text/plain": [
       "          Country        City                      University  \\\n",
       "0             USA   Cambridge              Harvard University   \n",
       "1              UK      London         Imperial College London   \n",
       "2          Canada     Toronto           University of Toronto   \n",
       "3       Australia   Melbourne         University of Melbourne   \n",
       "4         Germany      Munich  Technical University of Munich   \n",
       "..            ...         ...                             ...   \n",
       "902        France  Strasbourg        University of Strasbourg   \n",
       "903      Malaysia       Nilai                            USIM   \n",
       "904  Saudi Arabia     Al-Ahsa          King Faisal University   \n",
       "905           USA     Seattle        University of Washington   \n",
       "906            UK  Nottingham        University of Nottingham   \n",
       "\n",
       "                    Program     Level  Duration_Years  Tuition_USD  \\\n",
       "0          Computer Science    Master             2.0        55400   \n",
       "1              Data Science    Master             1.0        41200   \n",
       "2        Business Analytics    Master             2.0        38500   \n",
       "3               Engineering    Master             2.0        42000   \n",
       "4    Mechanical Engineering    Master             2.0          500   \n",
       "..                      ...       ...             ...          ...   \n",
       "902          Data Analytics    Master             2.0         4000   \n",
       "903        Computer Science  Bachelor             3.0         6800   \n",
       "904     Information Systems    Master             2.0         4200   \n",
       "905    Software Development       PhD             5.0        50000   \n",
       "906        Data Engineering    Master             2.0        34000   \n",
       "\n",
       "     Living_Cost_Index  Rent_USD  Visa_Fee_USD  Insurance_USD  Exchange_Rate  \n",
       "0                 83.5      2200           160           1500           1.00  \n",
       "1                 75.8      1800           485            800           0.79  \n",
       "2                 72.5      1600           235            900           1.35  \n",
       "3                 71.2      1400           450            650           1.52  \n",
       "4                 70.5      1100            75            550           0.92  \n",
       "..                 ...       ...           ...            ...            ...  \n",
       "902               70.2      1000            99            850           0.92  \n",
       "903               50.5       400           120            400           4.65  \n",
       "904               64.2       600           200            800           3.75  \n",
       "905               77.8      2000           160           1500           1.00  \n",
       "906               61.2       800           485            800           0.79  \n",
       "\n",
       "[907 rows x 12 columns]"
      ],
      "text/html": [
       "<div>\n",
       "<style scoped>\n",
       "    .dataframe tbody tr th:only-of-type {\n",
       "        vertical-align: middle;\n",
       "    }\n",
       "\n",
       "    .dataframe tbody tr th {\n",
       "        vertical-align: top;\n",
       "    }\n",
       "\n",
       "    .dataframe thead th {\n",
       "        text-align: right;\n",
       "    }\n",
       "</style>\n",
       "<table border=\"1\" class=\"dataframe\">\n",
       "  <thead>\n",
       "    <tr style=\"text-align: right;\">\n",
       "      <th></th>\n",
       "      <th>Country</th>\n",
       "      <th>City</th>\n",
       "      <th>University</th>\n",
       "      <th>Program</th>\n",
       "      <th>Level</th>\n",
       "      <th>Duration_Years</th>\n",
       "      <th>Tuition_USD</th>\n",
       "      <th>Living_Cost_Index</th>\n",
       "      <th>Rent_USD</th>\n",
       "      <th>Visa_Fee_USD</th>\n",
       "      <th>Insurance_USD</th>\n",
       "      <th>Exchange_Rate</th>\n",
       "    </tr>\n",
       "  </thead>\n",
       "  <tbody>\n",
       "    <tr>\n",
       "      <th>0</th>\n",
       "      <td>USA</td>\n",
       "      <td>Cambridge</td>\n",
       "      <td>Harvard University</td>\n",
       "      <td>Computer Science</td>\n",
       "      <td>Master</td>\n",
       "      <td>2.0</td>\n",
       "      <td>55400</td>\n",
       "      <td>83.5</td>\n",
       "      <td>2200</td>\n",
       "      <td>160</td>\n",
       "      <td>1500</td>\n",
       "      <td>1.00</td>\n",
       "    </tr>\n",
       "    <tr>\n",
       "      <th>1</th>\n",
       "      <td>UK</td>\n",
       "      <td>London</td>\n",
       "      <td>Imperial College London</td>\n",
       "      <td>Data Science</td>\n",
       "      <td>Master</td>\n",
       "      <td>1.0</td>\n",
       "      <td>41200</td>\n",
       "      <td>75.8</td>\n",
       "      <td>1800</td>\n",
       "      <td>485</td>\n",
       "      <td>800</td>\n",
       "      <td>0.79</td>\n",
       "    </tr>\n",
       "    <tr>\n",
       "      <th>2</th>\n",
       "      <td>Canada</td>\n",
       "      <td>Toronto</td>\n",
       "      <td>University of Toronto</td>\n",
       "      <td>Business Analytics</td>\n",
       "      <td>Master</td>\n",
       "      <td>2.0</td>\n",
       "      <td>38500</td>\n",
       "      <td>72.5</td>\n",
       "      <td>1600</td>\n",
       "      <td>235</td>\n",
       "      <td>900</td>\n",
       "      <td>1.35</td>\n",
       "    </tr>\n",
       "    <tr>\n",
       "      <th>3</th>\n",
       "      <td>Australia</td>\n",
       "      <td>Melbourne</td>\n",
       "      <td>University of Melbourne</td>\n",
       "      <td>Engineering</td>\n",
       "      <td>Master</td>\n",
       "      <td>2.0</td>\n",
       "      <td>42000</td>\n",
       "      <td>71.2</td>\n",
       "      <td>1400</td>\n",
       "      <td>450</td>\n",
       "      <td>650</td>\n",
       "      <td>1.52</td>\n",
       "    </tr>\n",
       "    <tr>\n",
       "      <th>4</th>\n",
       "      <td>Germany</td>\n",
       "      <td>Munich</td>\n",
       "      <td>Technical University of Munich</td>\n",
       "      <td>Mechanical Engineering</td>\n",
       "      <td>Master</td>\n",
       "      <td>2.0</td>\n",
       "      <td>500</td>\n",
       "      <td>70.5</td>\n",
       "      <td>1100</td>\n",
       "      <td>75</td>\n",
       "      <td>550</td>\n",
       "      <td>0.92</td>\n",
       "    </tr>\n",
       "    <tr>\n",
       "      <th>...</th>\n",
       "      <td>...</td>\n",
       "      <td>...</td>\n",
       "      <td>...</td>\n",
       "      <td>...</td>\n",
       "      <td>...</td>\n",
       "      <td>...</td>\n",
       "      <td>...</td>\n",
       "      <td>...</td>\n",
       "      <td>...</td>\n",
       "      <td>...</td>\n",
       "      <td>...</td>\n",
       "      <td>...</td>\n",
       "    </tr>\n",
       "    <tr>\n",
       "      <th>902</th>\n",
       "      <td>France</td>\n",
       "      <td>Strasbourg</td>\n",
       "      <td>University of Strasbourg</td>\n",
       "      <td>Data Analytics</td>\n",
       "      <td>Master</td>\n",
       "      <td>2.0</td>\n",
       "      <td>4000</td>\n",
       "      <td>70.2</td>\n",
       "      <td>1000</td>\n",
       "      <td>99</td>\n",
       "      <td>850</td>\n",
       "      <td>0.92</td>\n",
       "    </tr>\n",
       "    <tr>\n",
       "      <th>903</th>\n",
       "      <td>Malaysia</td>\n",
       "      <td>Nilai</td>\n",
       "      <td>USIM</td>\n",
       "      <td>Computer Science</td>\n",
       "      <td>Bachelor</td>\n",
       "      <td>3.0</td>\n",
       "      <td>6800</td>\n",
       "      <td>50.5</td>\n",
       "      <td>400</td>\n",
       "      <td>120</td>\n",
       "      <td>400</td>\n",
       "      <td>4.65</td>\n",
       "    </tr>\n",
       "    <tr>\n",
       "      <th>904</th>\n",
       "      <td>Saudi Arabia</td>\n",
       "      <td>Al-Ahsa</td>\n",
       "      <td>King Faisal University</td>\n",
       "      <td>Information Systems</td>\n",
       "      <td>Master</td>\n",
       "      <td>2.0</td>\n",
       "      <td>4200</td>\n",
       "      <td>64.2</td>\n",
       "      <td>600</td>\n",
       "      <td>200</td>\n",
       "      <td>800</td>\n",
       "      <td>3.75</td>\n",
       "    </tr>\n",
       "    <tr>\n",
       "      <th>905</th>\n",
       "      <td>USA</td>\n",
       "      <td>Seattle</td>\n",
       "      <td>University of Washington</td>\n",
       "      <td>Software Development</td>\n",
       "      <td>PhD</td>\n",
       "      <td>5.0</td>\n",
       "      <td>50000</td>\n",
       "      <td>77.8</td>\n",
       "      <td>2000</td>\n",
       "      <td>160</td>\n",
       "      <td>1500</td>\n",
       "      <td>1.00</td>\n",
       "    </tr>\n",
       "    <tr>\n",
       "      <th>906</th>\n",
       "      <td>UK</td>\n",
       "      <td>Nottingham</td>\n",
       "      <td>University of Nottingham</td>\n",
       "      <td>Data Engineering</td>\n",
       "      <td>Master</td>\n",
       "      <td>2.0</td>\n",
       "      <td>34000</td>\n",
       "      <td>61.2</td>\n",
       "      <td>800</td>\n",
       "      <td>485</td>\n",
       "      <td>800</td>\n",
       "      <td>0.79</td>\n",
       "    </tr>\n",
       "  </tbody>\n",
       "</table>\n",
       "<p>907 rows × 12 columns</p>\n",
       "</div>"
      ]
     },
     "execution_count": 2,
     "metadata": {},
     "output_type": "execute_result"
    }
   ],
   "execution_count": 2
  },
  {
   "metadata": {
    "ExecuteTime": {
     "end_time": "2025-05-07T17:10:33.986390Z",
     "start_time": "2025-05-07T17:10:33.982953Z"
    }
   },
   "cell_type": "code",
   "source": "df.columns",
   "id": "ff0ce60914f8a3f1",
   "outputs": [
    {
     "data": {
      "text/plain": [
       "Index(['Country', 'City', 'University', 'Program', 'Level', 'Duration_Years',\n",
       "       'Tuition_USD', 'Living_Cost_Index', 'Rent_USD', 'Visa_Fee_USD',\n",
       "       'Insurance_USD', 'Exchange_Rate'],\n",
       "      dtype='object')"
      ]
     },
     "execution_count": 20,
     "metadata": {},
     "output_type": "execute_result"
    }
   ],
   "execution_count": 20
  },
  {
   "metadata": {
    "ExecuteTime": {
     "end_time": "2025-05-07T18:04:16.897473Z",
     "start_time": "2025-05-07T18:04:16.886699Z"
    }
   },
   "cell_type": "code",
   "source": "df.info()",
   "id": "9f22b7c60d3afc77",
   "outputs": [
    {
     "name": "stdout",
     "output_type": "stream",
     "text": [
      "<class 'pandas.core.frame.DataFrame'>\n",
      "RangeIndex: 907 entries, 0 to 906\n",
      "Data columns (total 12 columns):\n",
      " #   Column             Non-Null Count  Dtype  \n",
      "---  ------             --------------  -----  \n",
      " 0   Country            907 non-null    object \n",
      " 1   City               907 non-null    object \n",
      " 2   University         907 non-null    object \n",
      " 3   Program            907 non-null    object \n",
      " 4   Level              907 non-null    object \n",
      " 5   Duration_Years     907 non-null    float64\n",
      " 6   Tuition_USD        907 non-null    int64  \n",
      " 7   Living_Cost_Index  907 non-null    float64\n",
      " 8   Rent_USD           907 non-null    int64  \n",
      " 9   Visa_Fee_USD       907 non-null    int64  \n",
      " 10  Insurance_USD      907 non-null    int64  \n",
      " 11  Exchange_Rate      907 non-null    float64\n",
      "dtypes: float64(3), int64(4), object(5)\n",
      "memory usage: 85.2+ KB\n"
     ]
    }
   ],
   "execution_count": 24
  },
  {
   "metadata": {},
   "cell_type": "markdown",
   "source": "### - Top 10 the most expensive countries for international students",
   "id": "8925f49e2adcbbce"
  },
  {
   "metadata": {
    "ExecuteTime": {
     "end_time": "2025-05-14T13:29:15.819369Z",
     "start_time": "2025-05-14T13:29:15.815392Z"
    }
   },
   "cell_type": "code",
   "source": [
    "total_cost= df.Tuition_USD +df.Rent_USD*12*df.Duration_Years + df.Insurance_USD + df.Visa_Fee_USD\n",
    "\n",
    "total_cost.name=\"Total_Cost\""
   ],
   "id": "6ba5dfa8536dd6c7",
   "outputs": [],
   "execution_count": 3
  },
  {
   "metadata": {},
   "cell_type": "raw",
   "source": "total_cost= Tuition +Rent*12*Duration_Years + Insurance + Visa",
   "id": "adcc834fac88d53d"
  },
  {
   "metadata": {
    "ExecuteTime": {
     "end_time": "2025-05-14T13:29:17.461300Z",
     "start_time": "2025-05-14T13:29:17.456258Z"
    }
   },
   "cell_type": "code",
   "source": [
    "total=total_cost.groupby(df[\"Country\"]).sum()\n",
    "total.sort_values(ascending=False).head(10)"
   ],
   "id": "ce88facaee358dc9",
   "outputs": [
    {
     "data": {
      "text/plain": [
       "Country\n",
       "USA            9685380.0\n",
       "Australia      7263900.0\n",
       "UK             6663955.0\n",
       "Canada         5493260.0\n",
       "Singapore      1579720.0\n",
       "Switzerland    1034576.0\n",
       "France          967523.0\n",
       "Germany         958775.0\n",
       "Netherlands     941228.0\n",
       "Italy           597890.0\n",
       "Name: Total_Cost, dtype: float64"
      ]
     },
     "execution_count": 4,
     "metadata": {},
     "output_type": "execute_result"
    }
   ],
   "execution_count": 4
  },
  {
   "metadata": {},
   "cell_type": "markdown",
   "source": "### -Compare the costs adjusted to the exchange rate",
   "id": "b4049e6dd94ef1df"
  },
  {
   "metadata": {
    "ExecuteTime": {
     "end_time": "2025-05-14T13:29:19.432133Z",
     "start_time": "2025-05-14T13:29:19.429322Z"
    }
   },
   "cell_type": "code",
   "source": [
    "after_exchange=total_cost*df.Exchange_Rate\n",
    "after_exchange.name=\"After_Exchange\""
   ],
   "id": "e4fa3c67236e1e80",
   "outputs": [],
   "execution_count": 5
  },
  {
   "metadata": {
    "ExecuteTime": {
     "end_time": "2025-05-14T13:29:20.944529Z",
     "start_time": "2025-05-14T13:29:20.940063Z"
    }
   },
   "cell_type": "code",
   "source": "after_exchange.groupby(df[\"Country\"]).sum().sort_values(ascending=False).round(2).head(10)",
   "id": "f783f9cb4a5afe6a",
   "outputs": [
    {
     "data": {
      "text/plain": [
       "Country\n",
       "Iran           3.133852e+09\n",
       "Lebanon        2.262150e+09\n",
       "Indonesia      1.919789e+09\n",
       "Uzbekistan     7.408290e+08\n",
       "South Korea    7.309061e+08\n",
       "Vietnam        6.154065e+08\n",
       "Colombia       3.576330e+08\n",
       "Japan          6.096481e+07\n",
       "Hungary        4.995966e+07\n",
       "Argentina      3.498242e+07\n",
       "Name: After_Exchange, dtype: float64"
      ]
     },
     "execution_count": 6,
     "metadata": {},
     "output_type": "execute_result"
    }
   ],
   "execution_count": 6
  },
  {
   "metadata": {},
   "cell_type": "markdown",
   "source": "### - Which cities are the most accessible for students",
   "id": "f7b615502779bd6"
  },
  {
   "metadata": {
    "ExecuteTime": {
     "end_time": "2025-05-14T13:29:23.220895Z",
     "start_time": "2025-05-14T13:29:23.217500Z"
    }
   },
   "cell_type": "code",
   "source": [
    "access_score= (df.Rent_USD+df.Living_Cost_Index)/100\n",
    "access_score.name=\"Access_Score\""
   ],
   "id": "513b9d9b5bdcdcf1",
   "outputs": [],
   "execution_count": 7
  },
  {
   "metadata": {
    "ExecuteTime": {
     "end_time": "2025-05-14T13:29:24.148795Z",
     "start_time": "2025-05-14T13:29:24.143402Z"
    }
   },
   "cell_type": "code",
   "source": "access_score.groupby(df.City).sum().sort_values(ascending=False).round(2)",
   "id": "afa9037c9c2aae52",
   "outputs": [
    {
     "data": {
      "text/plain": [
       "City\n",
       "Singapore    265.76\n",
       "Sydney       212.19\n",
       "Melbourne    189.99\n",
       "London       186.50\n",
       "Seattle      126.80\n",
       "              ...  \n",
       "Sylhet         1.97\n",
       "Tlemcen        1.93\n",
       "Gabes          1.90\n",
       "Aswan          1.88\n",
       "Bizerte        1.80\n",
       "Name: Access_Score, Length: 556, dtype: float64"
      ]
     },
     "execution_count": 8,
     "metadata": {},
     "output_type": "execute_result"
    }
   ],
   "execution_count": 8
  },
  {
   "metadata": {},
   "cell_type": "markdown",
   "source": "### - Visualize the cost per level (Bachelor vs Masters vs PhD)",
   "id": "6c22bec362ceae1f"
  },
  {
   "metadata": {
    "ExecuteTime": {
     "end_time": "2025-05-14T13:29:26.603013Z",
     "start_time": "2025-05-14T13:29:26.599653Z"
    }
   },
   "cell_type": "code",
   "source": "df[\"Total_Cost\"] = total_cost\n",
   "id": "dad6a941149454f6",
   "outputs": [],
   "execution_count": 9
  },
  {
   "metadata": {
    "ExecuteTime": {
     "end_time": "2025-05-14T13:29:28.787142Z",
     "start_time": "2025-05-14T13:29:28.662097Z"
    }
   },
   "cell_type": "code",
   "source": [
    "\n",
    "sns.boxplot(x=\"Level\", y=\"Total_Cost\", data=df)\n",
    "plt.title(\"Cost Distribution per Level\")\n",
    "plt.xlabel(\"Studies Level\")\n",
    "plt.ylabel(\"Total Cost (USD)\")\n",
    "plt.show()"
   ],
   "id": "9ff960d61a933913",
   "outputs": [
    {
     "data": {
      "text/plain": [
       "<Figure size 640x480 with 1 Axes>"
      ],
      "image/png": "[encoded data removed]"
     },
     "metadata": {},
     "output_type": "display_data"
    }
   ],
   "execution_count": 10
  },
  {
   "metadata": {},
   "cell_type": "raw",
   "source": [
    "Putem vedea:\n",
    "1.mediana costului\n",
    "2.cat de raspandite sunt\n",
    "3.si care nivel este cel mai scump"
   ],
   "id": "637929775b1a1a45"
  },
  {
   "metadata": {},
   "cell_type": "markdown",
   "source": "### - Analyze the country with the best quality education with fewer costs",
   "id": "b3e03580f98b50aa"
  },
  {
   "metadata": {
    "ExecuteTime": {
     "end_time": "2025-05-14T13:29:39.246213Z",
     "start_time": "2025-05-14T13:29:39.243278Z"
    }
   },
   "cell_type": "code",
   "source": [
    "efficency_score=1000 / (df[\"Tuition_USD\"] + df[\"Living_Cost_Index\"] * 100)\n",
    "efficency_score.name=\"Efficiency_Score\""
   ],
   "id": "2f05dffccd656d11",
   "outputs": [],
   "execution_count": 11
  },
  {
   "metadata": {
    "ExecuteTime": {
     "end_time": "2025-05-14T13:29:40.715505Z",
     "start_time": "2025-05-14T13:29:40.706121Z"
    }
   },
   "cell_type": "code",
   "source": [
    "df[\"Efficiency_Score\"]=efficency_score.round(4)\n",
    "df"
   ],
   "id": "1ebbba3213e8af99",
   "outputs": [
    {
     "data": {
      "text/plain": [
       "          Country        City                      University  \\\n",
       "0             USA   Cambridge              Harvard University   \n",
       "1              UK      London         Imperial College London   \n",
       "2          Canada     Toronto           University of Toronto   \n",
       "3       Australia   Melbourne         University of Melbourne   \n",
       "4         Germany      Munich  Technical University of Munich   \n",
       "..            ...         ...                             ...   \n",
       "902        France  Strasbourg        University of Strasbourg   \n",
       "903      Malaysia       Nilai                            USIM   \n",
       "904  Saudi Arabia     Al-Ahsa          King Faisal University   \n",
       "905           USA     Seattle        University of Washington   \n",
       "906            UK  Nottingham        University of Nottingham   \n",
       "\n",
       "                    Program     Level  Duration_Years  Tuition_USD  \\\n",
       "0          Computer Science    Master             2.0        55400   \n",
       "1              Data Science    Master             1.0        41200   \n",
       "2        Business Analytics    Master             2.0        38500   \n",
       "3               Engineering    Master             2.0        42000   \n",
       "4    Mechanical Engineering    Master             2.0          500   \n",
       "..                      ...       ...             ...          ...   \n",
       "902          Data Analytics    Master             2.0         4000   \n",
       "903        Computer Science  Bachelor             3.0         6800   \n",
       "904     Information Systems    Master             2.0         4200   \n",
       "905    Software Development       PhD             5.0        50000   \n",
       "906        Data Engineering    Master             2.0        34000   \n",
       "\n",
       "     Living_Cost_Index  Rent_USD  Visa_Fee_USD  Insurance_USD  Exchange_Rate  \\\n",
       "0                 83.5      2200           160           1500           1.00   \n",
       "1                 75.8      1800           485            800           0.79   \n",
       "2                 72.5      1600           235            900           1.35   \n",
       "3                 71.2      1400           450            650           1.52   \n",
       "4                 70.5      1100            75            550           0.92   \n",
       "..                 ...       ...           ...            ...            ...   \n",
       "902               70.2      1000            99            850           0.92   \n",
       "903               50.5       400           120            400           4.65   \n",
       "904               64.2       600           200            800           3.75   \n",
       "905               77.8      2000           160           1500           1.00   \n",
       "906               61.2       800           485            800           0.79   \n",
       "\n",
       "     Total_Cost  Efficiency_Score  \n",
       "0      109860.0            0.0157  \n",
       "1       64085.0            0.0205  \n",
       "2       78035.0            0.0219  \n",
       "3       76700.0            0.0204  \n",
       "4       27525.0            0.1325  \n",
       "..          ...               ...  \n",
       "902     28949.0            0.0907  \n",
       "903     21720.0            0.0844  \n",
       "904     19600.0            0.0942  \n",
       "905    171660.0            0.0173  \n",
       "906     54485.0            0.0249  \n",
       "\n",
       "[907 rows x 14 columns]"
      ],
      "text/html": [
       "<div>\n",
       "<style scoped>\n",
       "    .dataframe tbody tr th:only-of-type {\n",
       "        vertical-align: middle;\n",
       "    }\n",
       "\n",
       "    .dataframe tbody tr th {\n",
       "        vertical-align: top;\n",
       "    }\n",
       "\n",
       "    .dataframe thead th {\n",
       "        text-align: right;\n",
       "    }\n",
       "</style>\n",
       "<table border=\"1\" class=\"dataframe\">\n",
       "  <thead>\n",
       "    <tr style=\"text-align: right;\">\n",
       "      <th></th>\n",
       "      <th>Country</th>\n",
       "      <th>City</th>\n",
       "      <th>University</th>\n",
       "      <th>Program</th>\n",
       "      <th>Level</th>\n",
       "      <th>Duration_Years</th>\n",
       "      <th>Tuition_USD</th>\n",
       "      <th>Living_Cost_Index</th>\n",
       "      <th>Rent_USD</th>\n",
       "      <th>Visa_Fee_USD</th>\n",
       "      <th>Insurance_USD</th>\n",
       "      <th>Exchange_Rate</th>\n",
       "      <th>Total_Cost</th>\n",
       "      <th>Efficiency_Score</th>\n",
       "    </tr>\n",
       "  </thead>\n",
       "  <tbody>\n",
       "    <tr>\n",
       "      <th>0</th>\n",
       "      <td>USA</td>\n",
       "      <td>Cambridge</td>\n",
       "      <td>Harvard University</td>\n",
       "      <td>Computer Science</td>\n",
       "      <td>Master</td>\n",
       "      <td>2.0</td>\n",
       "      <td>55400</td>\n",
       "      <td>83.5</td>\n",
       "      <td>2200</td>\n",
       "      <td>160</td>\n",
       "      <td>1500</td>\n",
       "      <td>1.00</td>\n",
       "      <td>109860.0</td>\n",
       "      <td>0.0157</td>\n",
       "    </tr>\n",
       "    <tr>\n",
       "      <th>1</th>\n",
       "      <td>UK</td>\n",
       "      <td>London</td>\n",
       "      <td>Imperial College London</td>\n",
       "      <td>Data Science</td>\n",
       "      <td>Master</td>\n",
       "      <td>1.0</td>\n",
       "      <td>41200</td>\n",
       "      <td>75.8</td>\n",
       "      <td>1800</td>\n",
       "      <td>485</td>\n",
       "      <td>800</td>\n",
       "      <td>0.79</td>\n",
       "      <td>64085.0</td>\n",
       "      <td>0.0205</td>\n",
       "    </tr>\n",
       "    <tr>\n",
       "      <th>2</th>\n",
       "      <td>Canada</td>\n",
       "      <td>Toronto</td>\n",
       "      <td>University of Toronto</td>\n",
       "      <td>Business Analytics</td>\n",
       "      <td>Master</td>\n",
       "      <td>2.0</td>\n",
       "      <td>38500</td>\n",
       "      <td>72.5</td>\n",
       "      <td>1600</td>\n",
       "      <td>235</td>\n",
       "      <td>900</td>\n",
       "      <td>1.35</td>\n",
       "      <td>78035.0</td>\n",
       "      <td>0.0219</td>\n",
       "    </tr>\n",
       "    <tr>\n",
       "      <th>3</th>\n",
       "      <td>Australia</td>\n",
       "      <td>Melbourne</td>\n",
       "      <td>University of Melbourne</td>\n",
       "      <td>Engineering</td>\n",
       "      <td>Master</td>\n",
       "      <td>2.0</td>\n",
       "      <td>42000</td>\n",
       "      <td>71.2</td>\n",
       "      <td>1400</td>\n",
       "      <td>450</td>\n",
       "      <td>650</td>\n",
       "      <td>1.52</td>\n",
       "      <td>76700.0</td>\n",
       "      <td>0.0204</td>\n",
       "    </tr>\n",
       "    <tr>\n",
       "      <th>4</th>\n",
       "      <td>Germany</td>\n",
       "      <td>Munich</td>\n",
       "      <td>Technical University of Munich</td>\n",
       "      <td>Mechanical Engineering</td>\n",
       "      <td>Master</td>\n",
       "      <td>2.0</td>\n",
       "      <td>500</td>\n",
       "      <td>70.5</td>\n",
       "      <td>1100</td>\n",
       "      <td>75</td>\n",
       "      <td>550</td>\n",
       "      <td>0.92</td>\n",
       "      <td>27525.0</td>\n",
       "      <td>0.1325</td>\n",
       "    </tr>\n",
       "    <tr>\n",
       "      <th>...</th>\n",
       "      <td>...</td>\n",
       "      <td>...</td>\n",
       "      <td>...</td>\n",
       "      <td>...</td>\n",
       "      <td>...</td>\n",
       "      <td>...</td>\n",
       "      <td>...</td>\n",
       "      <td>...</td>\n",
       "      <td>...</td>\n",
       "      <td>...</td>\n",
       "      <td>...</td>\n",
       "      <td>...</td>\n",
       "      <td>...</td>\n",
       "      <td>...</td>\n",
       "    </tr>\n",
       "    <tr>\n",
       "      <th>902</th>\n",
       "      <td>France</td>\n",
       "      <td>Strasbourg</td>\n",
       "      <td>University of Strasbourg</td>\n",
       "      <td>Data Analytics</td>\n",
       "      <td>Master</td>\n",
       "      <td>2.0</td>\n",
       "      <td>4000</td>\n",
       "      <td>70.2</td>\n",
       "      <td>1000</td>\n",
       "      <td>99</td>\n",
       "      <td>850</td>\n",
       "      <td>0.92</td>\n",
       "      <td>28949.0</td>\n",
       "      <td>0.0907</td>\n",
       "    </tr>\n",
       "    <tr>\n",
       "      <th>903</th>\n",
       "      <td>Malaysia</td>\n",
       "      <td>Nilai</td>\n",
       "      <td>USIM</td>\n",
       "      <td>Computer Science</td>\n",
       "      <td>Bachelor</td>\n",
       "      <td>3.0</td>\n",
       "      <td>6800</td>\n",
       "      <td>50.5</td>\n",
       "      <td>400</td>\n",
       "      <td>120</td>\n",
       "      <td>400</td>\n",
       "      <td>4.65</td>\n",
       "      <td>21720.0</td>\n",
       "      <td>0.0844</td>\n",
       "    </tr>\n",
       "    <tr>\n",
       "      <th>904</th>\n",
       "      <td>Saudi Arabia</td>\n",
       "      <td>Al-Ahsa</td>\n",
       "      <td>King Faisal University</td>\n",
       "      <td>Information Systems</td>\n",
       "      <td>Master</td>\n",
       "      <td>2.0</td>\n",
       "      <td>4200</td>\n",
       "      <td>64.2</td>\n",
       "      <td>600</td>\n",
       "      <td>200</td>\n",
       "      <td>800</td>\n",
       "      <td>3.75</td>\n",
       "      <td>19600.0</td>\n",
       "      <td>0.0942</td>\n",
       "    </tr>\n",
       "    <tr>\n",
       "      <th>905</th>\n",
       "      <td>USA</td>\n",
       "      <td>Seattle</td>\n",
       "      <td>University of Washington</td>\n",
       "      <td>Software Development</td>\n",
       "      <td>PhD</td>\n",
       "      <td>5.0</td>\n",
       "      <td>50000</td>\n",
       "      <td>77.8</td>\n",
       "      <td>2000</td>\n",
       "      <td>160</td>\n",
       "      <td>1500</td>\n",
       "      <td>1.00</td>\n",
       "      <td>171660.0</td>\n",
       "      <td>0.0173</td>\n",
       "    </tr>\n",
       "    <tr>\n",
       "      <th>906</th>\n",
       "      <td>UK</td>\n",
       "      <td>Nottingham</td>\n",
       "      <td>University of Nottingham</td>\n",
       "      <td>Data Engineering</td>\n",
       "      <td>Master</td>\n",
       "      <td>2.0</td>\n",
       "      <td>34000</td>\n",
       "      <td>61.2</td>\n",
       "      <td>800</td>\n",
       "      <td>485</td>\n",
       "      <td>800</td>\n",
       "      <td>0.79</td>\n",
       "      <td>54485.0</td>\n",
       "      <td>0.0249</td>\n",
       "    </tr>\n",
       "  </tbody>\n",
       "</table>\n",
       "<p>907 rows × 14 columns</p>\n",
       "</div>"
      ]
     },
     "execution_count": 12,
     "metadata": {},
     "output_type": "execute_result"
    }
   ],
   "execution_count": 12
  },
  {
   "metadata": {},
   "cell_type": "raw",
   "source": "daca scorul e mare -> educatia este mai ieftina decat traiul",
   "id": "a7f7d9dd53210f80"
  },
  {
   "metadata": {
    "ExecuteTime": {
     "end_time": "2025-05-14T13:29:43.702891Z",
     "start_time": "2025-05-14T13:29:43.697736Z"
    }
   },
   "cell_type": "code",
   "source": "efficency_score.groupby(df.Country).sum().sort_values(ascending=False).round(2)",
   "id": "31d0d413a7b12e59",
   "outputs": [
    {
     "data": {
      "text/plain": [
       "Country\n",
       "Germany           4.74\n",
       "Greece            2.74\n",
       "UK                2.56\n",
       "France            2.34\n",
       "Canada            2.22\n",
       "                  ... \n",
       "South Africa      0.09\n",
       "Taiwan            0.09\n",
       "Czech Republic    0.07\n",
       "Israel            0.05\n",
       "Hong Kong         0.03\n",
       "Name: Efficiency_Score, Length: 71, dtype: float64"
      ]
     },
     "execution_count": 13,
     "metadata": {},
     "output_type": "execute_result"
    }
   ],
   "execution_count": 13
  },
  {
   "metadata": {
    "ExecuteTime": {
     "end_time": "2025-05-14T13:29:46.060165Z",
     "start_time": "2025-05-14T13:29:46.048652Z"
    }
   },
   "cell_type": "code",
   "source": [
    "df.Efficiency_Score=pd.qcut(efficency_score,q=4,labels=[\"Low\",\"Medium\",\"Normal\",\"High\"])\n",
    "df"
   ],
   "id": "4e6ead2d6694b579",
   "outputs": [
    {
     "data": {
      "text/plain": [
       "          Country        City                      University  \\\n",
       "0             USA   Cambridge              Harvard University   \n",
       "1              UK      London         Imperial College London   \n",
       "2          Canada     Toronto           University of Toronto   \n",
       "3       Australia   Melbourne         University of Melbourne   \n",
       "4         Germany      Munich  Technical University of Munich   \n",
       "..            ...         ...                             ...   \n",
       "902        France  Strasbourg        University of Strasbourg   \n",
       "903      Malaysia       Nilai                            USIM   \n",
       "904  Saudi Arabia     Al-Ahsa          King Faisal University   \n",
       "905           USA     Seattle        University of Washington   \n",
       "906            UK  Nottingham        University of Nottingham   \n",
       "\n",
       "                    Program     Level  Duration_Years  Tuition_USD  \\\n",
       "0          Computer Science    Master             2.0        55400   \n",
       "1              Data Science    Master             1.0        41200   \n",
       "2        Business Analytics    Master             2.0        38500   \n",
       "3               Engineering    Master             2.0        42000   \n",
       "4    Mechanical Engineering    Master             2.0          500   \n",
       "..                      ...       ...             ...          ...   \n",
       "902          Data Analytics    Master             2.0         4000   \n",
       "903        Computer Science  Bachelor             3.0         6800   \n",
       "904     Information Systems    Master             2.0         4200   \n",
       "905    Software Development       PhD             5.0        50000   \n",
       "906        Data Engineering    Master             2.0        34000   \n",
       "\n",
       "     Living_Cost_Index  Rent_USD  Visa_Fee_USD  Insurance_USD  Exchange_Rate  \\\n",
       "0                 83.5      2200           160           1500           1.00   \n",
       "1                 75.8      1800           485            800           0.79   \n",
       "2                 72.5      1600           235            900           1.35   \n",
       "3                 71.2      1400           450            650           1.52   \n",
       "4                 70.5      1100            75            550           0.92   \n",
       "..                 ...       ...           ...            ...            ...   \n",
       "902               70.2      1000            99            850           0.92   \n",
       "903               50.5       400           120            400           4.65   \n",
       "904               64.2       600           200            800           3.75   \n",
       "905               77.8      2000           160           1500           1.00   \n",
       "906               61.2       800           485            800           0.79   \n",
       "\n",
       "     Total_Cost Efficiency_Score  \n",
       "0      109860.0              Low  \n",
       "1       64085.0              Low  \n",
       "2       78035.0              Low  \n",
       "3       76700.0              Low  \n",
       "4       27525.0             High  \n",
       "..          ...              ...  \n",
       "902     28949.0           Normal  \n",
       "903     21720.0           Normal  \n",
       "904     19600.0           Normal  \n",
       "905    171660.0              Low  \n",
       "906     54485.0              Low  \n",
       "\n",
       "[907 rows x 14 columns]"
      ],
      "text/html": [
       "<div>\n",
       "<style scoped>\n",
       "    .dataframe tbody tr th:only-of-type {\n",
       "        vertical-align: middle;\n",
       "    }\n",
       "\n",
       "    .dataframe tbody tr th {\n",
       "        vertical-align: top;\n",
       "    }\n",
       "\n",
       "    .dataframe thead th {\n",
       "        text-align: right;\n",
       "    }\n",
       "</style>\n",
       "<table border=\"1\" class=\"dataframe\">\n",
       "  <thead>\n",
       "    <tr style=\"text-align: right;\">\n",
       "      <th></th>\n",
       "      <th>Country</th>\n",
       "      <th>City</th>\n",
       "      <th>University</th>\n",
       "      <th>Program</th>\n",
       "      <th>Level</th>\n",
       "      <th>Duration_Years</th>\n",
       "      <th>Tuition_USD</th>\n",
       "      <th>Living_Cost_Index</th>\n",
       "      <th>Rent_USD</th>\n",
       "      <th>Visa_Fee_USD</th>\n",
       "      <th>Insurance_USD</th>\n",
       "      <th>Exchange_Rate</th>\n",
       "      <th>Total_Cost</th>\n",
       "      <th>Efficiency_Score</th>\n",
       "    </tr>\n",
       "  </thead>\n",
       "  <tbody>\n",
       "    <tr>\n",
       "      <th>0</th>\n",
       "      <td>USA</td>\n",
       "      <td>Cambridge</td>\n",
       "      <td>Harvard University</td>\n",
       "      <td>Computer Science</td>\n",
       "      <td>Master</td>\n",
       "      <td>2.0</td>\n",
       "      <td>55400</td>\n",
       "      <td>83.5</td>\n",
       "      <td>2200</td>\n",
       "      <td>160</td>\n",
       "      <td>1500</td>\n",
       "      <td>1.00</td>\n",
       "      <td>109860.0</td>\n",
       "      <td>Low</td>\n",
       "    </tr>\n",
       "    <tr>\n",
       "      <th>1</th>\n",
       "      <td>UK</td>\n",
       "      <td>London</td>\n",
       "      <td>Imperial College London</td>\n",
       "      <td>Data Science</td>\n",
       "      <td>Master</td>\n",
       "      <td>1.0</td>\n",
       "      <td>41200</td>\n",
       "      <td>75.8</td>\n",
       "      <td>1800</td>\n",
       "      <td>485</td>\n",
       "      <td>800</td>\n",
       "      <td>0.79</td>\n",
       "      <td>64085.0</td>\n",
       "      <td>Low</td>\n",
       "    </tr>\n",
       "    <tr>\n",
       "      <th>2</th>\n",
       "      <td>Canada</td>\n",
       "      <td>Toronto</td>\n",
       "      <td>University of Toronto</td>\n",
       "      <td>Business Analytics</td>\n",
       "      <td>Master</td>\n",
       "      <td>2.0</td>\n",
       "      <td>38500</td>\n",
       "      <td>72.5</td>\n",
       "      <td>1600</td>\n",
       "      <td>235</td>\n",
       "      <td>900</td>\n",
       "      <td>1.35</td>\n",
       "      <td>78035.0</td>\n",
       "      <td>Low</td>\n",
       "    </tr>\n",
       "    <tr>\n",
       "      <th>3</th>\n",
       "      <td>Australia</td>\n",
       "      <td>Melbourne</td>\n",
       "      <td>University of Melbourne</td>\n",
       "      <td>Engineering</td>\n",
       "      <td>Master</td>\n",
       "      <td>2.0</td>\n",
       "      <td>42000</td>\n",
       "      <td>71.2</td>\n",
       "      <td>1400</td>\n",
       "      <td>450</td>\n",
       "      <td>650</td>\n",
       "      <td>1.52</td>\n",
       "      <td>76700.0</td>\n",
       "      <td>Low</td>\n",
       "    </tr>\n",
       "    <tr>\n",
       "      <th>4</th>\n",
       "      <td>Germany</td>\n",
       "      <td>Munich</td>\n",
       "      <td>Technical University of Munich</td>\n",
       "      <td>Mechanical Engineering</td>\n",
       "      <td>Master</td>\n",
       "      <td>2.0</td>\n",
       "      <td>500</td>\n",
       "      <td>70.5</td>\n",
       "      <td>1100</td>\n",
       "      <td>75</td>\n",
       "      <td>550</td>\n",
       "      <td>0.92</td>\n",
       "      <td>27525.0</td>\n",
       "      <td>High</td>\n",
       "    </tr>\n",
       "    <tr>\n",
       "      <th>...</th>\n",
       "      <td>...</td>\n",
       "      <td>...</td>\n",
       "      <td>...</td>\n",
       "      <td>...</td>\n",
       "      <td>...</td>\n",
       "      <td>...</td>\n",
       "      <td>...</td>\n",
       "      <td>...</td>\n",
       "      <td>...</td>\n",
       "      <td>...</td>\n",
       "      <td>...</td>\n",
       "      <td>...</td>\n",
       "      <td>...</td>\n",
       "      <td>...</td>\n",
       "    </tr>\n",
       "    <tr>\n",
       "      <th>902</th>\n",
       "      <td>France</td>\n",
       "      <td>Strasbourg</td>\n",
       "      <td>University of Strasbourg</td>\n",
       "      <td>Data Analytics</td>\n",
       "      <td>Master</td>\n",
       "      <td>2.0</td>\n",
       "      <td>4000</td>\n",
       "      <td>70.2</td>\n",
       "      <td>1000</td>\n",
       "      <td>99</td>\n",
       "      <td>850</td>\n",
       "      <td>0.92</td>\n",
       "      <td>28949.0</td>\n",
       "      <td>Normal</td>\n",
       "    </tr>\n",
       "    <tr>\n",
       "      <th>903</th>\n",
       "      <td>Malaysia</td>\n",
       "      <td>Nilai</td>\n",
       "      <td>USIM</td>\n",
       "      <td>Computer Science</td>\n",
       "      <td>Bachelor</td>\n",
       "      <td>3.0</td>\n",
       "      <td>6800</td>\n",
       "      <td>50.5</td>\n",
       "      <td>400</td>\n",
       "      <td>120</td>\n",
       "      <td>400</td>\n",
       "      <td>4.65</td>\n",
       "      <td>21720.0</td>\n",
       "      <td>Normal</td>\n",
       "    </tr>\n",
       "    <tr>\n",
       "      <th>904</th>\n",
       "      <td>Saudi Arabia</td>\n",
       "      <td>Al-Ahsa</td>\n",
       "      <td>King Faisal University</td>\n",
       "      <td>Information Systems</td>\n",
       "      <td>Master</td>\n",
       "      <td>2.0</td>\n",
       "      <td>4200</td>\n",
       "      <td>64.2</td>\n",
       "      <td>600</td>\n",
       "      <td>200</td>\n",
       "      <td>800</td>\n",
       "      <td>3.75</td>\n",
       "      <td>19600.0</td>\n",
       "      <td>Normal</td>\n",
       "    </tr>\n",
       "    <tr>\n",
       "      <th>905</th>\n",
       "      <td>USA</td>\n",
       "      <td>Seattle</td>\n",
       "      <td>University of Washington</td>\n",
       "      <td>Software Development</td>\n",
       "      <td>PhD</td>\n",
       "      <td>5.0</td>\n",
       "      <td>50000</td>\n",
       "      <td>77.8</td>\n",
       "      <td>2000</td>\n",
       "      <td>160</td>\n",
       "      <td>1500</td>\n",
       "      <td>1.00</td>\n",
       "      <td>171660.0</td>\n",
       "      <td>Low</td>\n",
       "    </tr>\n",
       "    <tr>\n",
       "      <th>906</th>\n",
       "      <td>UK</td>\n",
       "      <td>Nottingham</td>\n",
       "      <td>University of Nottingham</td>\n",
       "      <td>Data Engineering</td>\n",
       "      <td>Master</td>\n",
       "      <td>2.0</td>\n",
       "      <td>34000</td>\n",
       "      <td>61.2</td>\n",
       "      <td>800</td>\n",
       "      <td>485</td>\n",
       "      <td>800</td>\n",
       "      <td>0.79</td>\n",
       "      <td>54485.0</td>\n",
       "      <td>Low</td>\n",
       "    </tr>\n",
       "  </tbody>\n",
       "</table>\n",
       "<p>907 rows × 14 columns</p>\n",
       "</div>"
      ]
     },
     "execution_count": 14,
     "metadata": {},
     "output_type": "execute_result"
    }
   ],
   "execution_count": 14
  },
  {
   "metadata": {},
   "cell_type": "markdown",
   "source": "### -How the cost varies by the program",
   "id": "b4ec3352451c4d0f"
  },
  {
   "metadata": {},
   "cell_type": "raw",
   "source": "groupby(program)[tuition] -> ia coloana tuition , grupata dupa program",
   "id": "8238adf882bb964"
  },
  {
   "metadata": {
    "ExecuteTime": {
     "end_time": "2025-05-14T13:29:48.151109Z",
     "start_time": "2025-05-14T13:29:48.068366Z"
    }
   },
   "cell_type": "code",
   "source": [
    "avg_tuition = df.groupby(\"Program\")[\"Tuition_USD\"].mean().sort_values(ascending=False).head(10)\n",
    "\n",
    "plt.figure(figsize=(10,6))\n",
    "sns.barplot(x=avg_tuition.values, y=avg_tuition.index, palette=\"viridis\")\n",
    "plt.xlabel(\"Costs (USD)\")\n",
    "plt.ylabel(\"Course\")\n",
    "plt.title(\"AVG Tuition per Program\")\n",
    "plt.tight_layout()\n",
    "plt.show()"
   ],
   "id": "e88aaedce0adcf12",
   "outputs": [
    {
     "name": "stderr",
     "output_type": "stream",
     "text": [
      "/var/folders/cb/yp5287ws4zbgvbcyhyvlt4kc0000gn/T/ipykernel_24346/3586711462.py:4: FutureWarning: \n",
      "\n",
      "Passing `palette` without assigning `hue` is deprecated and will be removed in v0.14.0. Assign the `y` variable to `hue` and set `legend=False` for the same effect.\n",
      "\n",
      "  sns.barplot(x=avg_tuition.values, y=avg_tuition.index, palette=\"viridis\")\n"
     ]
    },
    {
     "data": {
      "text/plain": [
       "<Figure size 1000x600 with 1 Axes>"
      ],
      "image/png": "[encoded data removed]"
     },
     "metadata": {},
     "output_type": "display_data"
    }
   ],
   "execution_count": 15
  },
  {
   "metadata": {},
   "cell_type": "raw",
   "source": [
    "- Care sunt cele mai eficiente orașe pentru a studia (raport calitate-cost)? -> normalizează scorul QS (pentru că 1 e mai bun ca 300), și folosește min-max scaling\n",
    "\n",
    "- Care țări au cel mai bun compromis între reputația universităților și costuri? ->  compromise_score = QS_Ranking_Normalized / Total_Cost"
   ],
   "id": "cfd0d892a63d67bc"
  },
  {
   "metadata": {},
   "cell_type": "markdown",
   "source": "## Analyze the cost variance in a big country(USA)",
   "id": "ef601f4feaf59396"
  },
  {
   "metadata": {},
   "cell_type": "markdown",
   "source": "### The average cost per city",
   "id": "d4828b5e3d4a83cc"
  },
  {
   "metadata": {
    "ExecuteTime": {
     "end_time": "2025-05-14T13:30:23.735708Z",
     "start_time": "2025-05-14T13:30:23.730122Z"
    }
   },
   "cell_type": "code",
   "source": [
    "usa_city=df[df['Country']=='USA'][['City','Program','Total_Cost']]\n",
    "usa_city"
   ],
   "id": "de17d98887304687",
   "outputs": [
    {
     "data": {
      "text/plain": [
       "              City                  Program  Total_Cost\n",
       "0        Cambridge         Computer Science    109860.0\n",
       "19       Ann Arbor    Aerospace Engineering    140360.0\n",
       "20         Atlanta   Industrial Engineering    127060.0\n",
       "21          Austin     Chemical Engineering    119360.0\n",
       "29        Stanford         Computer Science    193860.0\n",
       "..             ...                      ...         ...\n",
       "877       New York             Data Science    123660.0\n",
       "884    Los Angeles     Computer Engineering    185660.0\n",
       "891        Chicago  Artificial Intelligence    105260.0\n",
       "898  San Francisco             Data Science    114260.0\n",
       "905        Seattle     Software Development    171660.0\n",
       "\n",
       "[78 rows x 3 columns]"
      ],
      "text/html": [
       "<div>\n",
       "<style scoped>\n",
       "    .dataframe tbody tr th:only-of-type {\n",
       "        vertical-align: middle;\n",
       "    }\n",
       "\n",
       "    .dataframe tbody tr th {\n",
       "        vertical-align: top;\n",
       "    }\n",
       "\n",
       "    .dataframe thead th {\n",
       "        text-align: right;\n",
       "    }\n",
       "</style>\n",
       "<table border=\"1\" class=\"dataframe\">\n",
       "  <thead>\n",
       "    <tr style=\"text-align: right;\">\n",
       "      <th></th>\n",
       "      <th>City</th>\n",
       "      <th>Program</th>\n",
       "      <th>Total_Cost</th>\n",
       "    </tr>\n",
       "  </thead>\n",
       "  <tbody>\n",
       "    <tr>\n",
       "      <th>0</th>\n",
       "      <td>Cambridge</td>\n",
       "      <td>Computer Science</td>\n",
       "      <td>109860.0</td>\n",
       "    </tr>\n",
       "    <tr>\n",
       "      <th>19</th>\n",
       "      <td>Ann Arbor</td>\n",
       "      <td>Aerospace Engineering</td>\n",
       "      <td>140360.0</td>\n",
       "    </tr>\n",
       "    <tr>\n",
       "      <th>20</th>\n",
       "      <td>Atlanta</td>\n",
       "      <td>Industrial Engineering</td>\n",
       "      <td>127060.0</td>\n",
       "    </tr>\n",
       "    <tr>\n",
       "      <th>21</th>\n",
       "      <td>Austin</td>\n",
       "      <td>Chemical Engineering</td>\n",
       "      <td>119360.0</td>\n",
       "    </tr>\n",
       "    <tr>\n",
       "      <th>29</th>\n",
       "      <td>Stanford</td>\n",
       "      <td>Computer Science</td>\n",
       "      <td>193860.0</td>\n",
       "    </tr>\n",
       "    <tr>\n",
       "      <th>...</th>\n",
       "      <td>...</td>\n",
       "      <td>...</td>\n",
       "      <td>...</td>\n",
       "    </tr>\n",
       "    <tr>\n",
       "      <th>877</th>\n",
       "      <td>New York</td>\n",
       "      <td>Data Science</td>\n",
       "      <td>123660.0</td>\n",
       "    </tr>\n",
       "    <tr>\n",
       "      <th>884</th>\n",
       "      <td>Los Angeles</td>\n",
       "      <td>Computer Engineering</td>\n",
       "      <td>185660.0</td>\n",
       "    </tr>\n",
       "    <tr>\n",
       "      <th>891</th>\n",
       "      <td>Chicago</td>\n",
       "      <td>Artificial Intelligence</td>\n",
       "      <td>105260.0</td>\n",
       "    </tr>\n",
       "    <tr>\n",
       "      <th>898</th>\n",
       "      <td>San Francisco</td>\n",
       "      <td>Data Science</td>\n",
       "      <td>114260.0</td>\n",
       "    </tr>\n",
       "    <tr>\n",
       "      <th>905</th>\n",
       "      <td>Seattle</td>\n",
       "      <td>Software Development</td>\n",
       "      <td>171660.0</td>\n",
       "    </tr>\n",
       "  </tbody>\n",
       "</table>\n",
       "<p>78 rows × 3 columns</p>\n",
       "</div>"
      ]
     },
     "execution_count": 16,
     "metadata": {},
     "output_type": "execute_result"
    }
   ],
   "execution_count": 16
  },
  {
   "metadata": {
    "ExecuteTime": {
     "end_time": "2025-05-14T13:30:25.709293Z",
     "start_time": "2025-05-14T13:30:25.703835Z"
    }
   },
   "cell_type": "code",
   "source": [
    "avg_cost=usa_city.groupby('City')['Total_Cost'].mean().sort_values(ascending=False).round(2)\n",
    "avg_cost"
   ],
   "id": "dcd49ac242ad6180",
   "outputs": [
    {
     "data": {
      "text/plain": [
       "City\n",
       "Stanford            187760.00\n",
       "MIT                 183660.00\n",
       "Baltimore           157260.00\n",
       "New Haven           156960.00\n",
       "Princeton           151660.00\n",
       "Ithaca              147460.00\n",
       "Los Angeles         147460.00\n",
       "Cambridge           138860.00\n",
       "Ann Arbor           137810.00\n",
       "Seattle             137643.33\n",
       "Atlanta             136785.00\n",
       "San Diego           132660.00\n",
       "Urbana-Champaign    131460.00\n",
       "Nashville           129260.00\n",
       "Berkeley            127560.00\n",
       "Boston              124420.00\n",
       "Minneapolis         123710.00\n",
       "Philadelphia        122760.00\n",
       "New York            120593.33\n",
       "Madison             119910.00\n",
       "Austin              114500.00\n",
       "San Francisco       112760.00\n",
       "Urbana              110460.00\n",
       "Chicago             104193.33\n",
       "Tempe               103460.00\n",
       "Columbus            101660.00\n",
       "Gainesville          97360.00\n",
       "West Lafayette       95560.00\n",
       "Pittsburgh           94460.00\n",
       "College Station      91060.00\n",
       "Corvallis            90560.00\n",
       "Denver               89460.00\n",
       "Raleigh              89310.00\n",
       "Durham               89160.00\n",
       "Davis                86660.00\n",
       "Portland             85060.00\n",
       "Boulder              79860.00\n",
       "Name: Total_Cost, dtype: float64"
      ]
     },
     "execution_count": 17,
     "metadata": {},
     "output_type": "execute_result"
    }
   ],
   "execution_count": 17
  },
  {
   "metadata": {},
   "cell_type": "markdown",
   "source": "### The distribution os the most expensive programs in USA",
   "id": "9f24a347adb0e362"
  },
  {
   "metadata": {
    "ExecuteTime": {
     "end_time": "2025-05-14T13:30:27.814959Z",
     "start_time": "2025-05-14T13:30:27.812319Z"
    }
   },
   "cell_type": "code",
   "source": "usa=df[df['Country']=='USA']",
   "id": "63e0c0f367113132",
   "outputs": [],
   "execution_count": 18
  },
  {
   "metadata": {
    "ExecuteTime": {
     "end_time": "2025-05-14T13:30:29.456285Z",
     "start_time": "2025-05-14T13:30:29.453269Z"
    }
   },
   "cell_type": "code",
   "source": "usa_sorted=usa.sort_values('Total_Cost', ascending=False)\n",
   "id": "dea488ccc992f8ee",
   "outputs": [],
   "execution_count": 19
  },
  {
   "metadata": {
    "ExecuteTime": {
     "end_time": "2025-05-14T13:30:31.012284Z",
     "start_time": "2025-05-14T13:30:31.004220Z"
    }
   },
   "cell_type": "code",
   "source": [
    "top_expensive=usa_sorted.head(10)\n",
    "top_expensive"
   ],
   "id": "6ffce88547c2bca1",
   "outputs": [
    {
     "data": {
      "text/plain": [
       "    Country         City                University                 Program  \\\n",
       "29      USA     Stanford       Stanford University        Computer Science   \n",
       "402     USA     Stanford       Stanford University                 Physics   \n",
       "856     USA     Stanford       Stanford University        Computer Science   \n",
       "30      USA       Boston                       MIT  Electrical Engineering   \n",
       "884     USA  Los Angeles                      UCLA    Computer Engineering   \n",
       "870     USA          MIT             Massachusetts                Robotics   \n",
       "214     USA     Stanford       Stanford University        Computer Science   \n",
       "432     USA      Seattle  University of Washington        Computer Science   \n",
       "905     USA      Seattle  University of Washington    Software Development   \n",
       "215     USA    Cambridge                       MIT        Computer Science   \n",
       "\n",
       "        Level  Duration_Years  Tuition_USD  Living_Cost_Index  Rent_USD  \\\n",
       "29        PhD             5.0        54200               89.5      2300   \n",
       "402       PhD             5.0        52000               84.3      2300   \n",
       "856       PhD             5.0        52000               84.3      2300   \n",
       "30        PhD             5.0        53800               83.2      2200   \n",
       "884       PhD             5.0        52000               79.8      2200   \n",
       "870       PhD             5.0        56000               82.1      2100   \n",
       "214  Bachelor             4.0        57000               95.2      2400   \n",
       "432       PhD             5.0        50000               77.8      2000   \n",
       "905       PhD             5.0        50000               77.8      2000   \n",
       "215  Bachelor             4.0        55800               83.5      2300   \n",
       "\n",
       "     Visa_Fee_USD  Insurance_USD  Exchange_Rate  Total_Cost Efficiency_Score  \n",
       "29            160           1500            1.0    193860.0              Low  \n",
       "402           160           1500            1.0    191660.0              Low  \n",
       "856           160           1500            1.0    191660.0              Low  \n",
       "30            160           1500            1.0    187460.0              Low  \n",
       "884           160           1500            1.0    185660.0              Low  \n",
       "870           160           1500            1.0    183660.0              Low  \n",
       "214           160           1500            1.0    173860.0              Low  \n",
       "432           160           1500            1.0    171660.0              Low  \n",
       "905           160           1500            1.0    171660.0              Low  \n",
       "215           160           1500            1.0    167860.0              Low  "
      ],
      "text/html": [
       "<div>\n",
       "<style scoped>\n",
       "    .dataframe tbody tr th:only-of-type {\n",
       "        vertical-align: middle;\n",
       "    }\n",
       "\n",
       "    .dataframe tbody tr th {\n",
       "        vertical-align: top;\n",
       "    }\n",
       "\n",
       "    .dataframe thead th {\n",
       "        text-align: right;\n",
       "    }\n",
       "</style>\n",
       "<table border=\"1\" class=\"dataframe\">\n",
       "  <thead>\n",
       "    <tr style=\"text-align: right;\">\n",
       "      <th></th>\n",
       "      <th>Country</th>\n",
       "      <th>City</th>\n",
       "      <th>University</th>\n",
       "      <th>Program</th>\n",
       "      <th>Level</th>\n",
       "      <th>Duration_Years</th>\n",
       "      <th>Tuition_USD</th>\n",
       "      <th>Living_Cost_Index</th>\n",
       "      <th>Rent_USD</th>\n",
       "      <th>Visa_Fee_USD</th>\n",
       "      <th>Insurance_USD</th>\n",
       "      <th>Exchange_Rate</th>\n",
       "      <th>Total_Cost</th>\n",
       "      <th>Efficiency_Score</th>\n",
       "    </tr>\n",
       "  </thead>\n",
       "  <tbody>\n",
       "    <tr>\n",
       "      <th>29</th>\n",
       "      <td>USA</td>\n",
       "      <td>Stanford</td>\n",
       "      <td>Stanford University</td>\n",
       "      <td>Computer Science</td>\n",
       "      <td>PhD</td>\n",
       "      <td>5.0</td>\n",
       "      <td>54200</td>\n",
       "      <td>89.5</td>\n",
       "      <td>2300</td>\n",
       "      <td>160</td>\n",
       "      <td>1500</td>\n",
       "      <td>1.0</td>\n",
       "      <td>193860.0</td>\n",
       "      <td>Low</td>\n",
       "    </tr>\n",
       "    <tr>\n",
       "      <th>402</th>\n",
       "      <td>USA</td>\n",
       "      <td>Stanford</td>\n",
       "      <td>Stanford University</td>\n",
       "      <td>Physics</td>\n",
       "      <td>PhD</td>\n",
       "      <td>5.0</td>\n",
       "      <td>52000</td>\n",
       "      <td>84.3</td>\n",
       "      <td>2300</td>\n",
       "      <td>160</td>\n",
       "      <td>1500</td>\n",
       "      <td>1.0</td>\n",
       "      <td>191660.0</td>\n",
       "      <td>Low</td>\n",
       "    </tr>\n",
       "    <tr>\n",
       "      <th>856</th>\n",
       "      <td>USA</td>\n",
       "      <td>Stanford</td>\n",
       "      <td>Stanford University</td>\n",
       "      <td>Computer Science</td>\n",
       "      <td>PhD</td>\n",
       "      <td>5.0</td>\n",
       "      <td>52000</td>\n",
       "      <td>84.3</td>\n",
       "      <td>2300</td>\n",
       "      <td>160</td>\n",
       "      <td>1500</td>\n",
       "      <td>1.0</td>\n",
       "      <td>191660.0</td>\n",
       "      <td>Low</td>\n",
       "    </tr>\n",
       "    <tr>\n",
       "      <th>30</th>\n",
       "      <td>USA</td>\n",
       "      <td>Boston</td>\n",
       "      <td>MIT</td>\n",
       "      <td>Electrical Engineering</td>\n",
       "      <td>PhD</td>\n",
       "      <td>5.0</td>\n",
       "      <td>53800</td>\n",
       "      <td>83.2</td>\n",
       "      <td>2200</td>\n",
       "      <td>160</td>\n",
       "      <td>1500</td>\n",
       "      <td>1.0</td>\n",
       "      <td>187460.0</td>\n",
       "      <td>Low</td>\n",
       "    </tr>\n",
       "    <tr>\n",
       "      <th>884</th>\n",
       "      <td>USA</td>\n",
       "      <td>Los Angeles</td>\n",
       "      <td>UCLA</td>\n",
       "      <td>Computer Engineering</td>\n",
       "      <td>PhD</td>\n",
       "      <td>5.0</td>\n",
       "      <td>52000</td>\n",
       "      <td>79.8</td>\n",
       "      <td>2200</td>\n",
       "      <td>160</td>\n",
       "      <td>1500</td>\n",
       "      <td>1.0</td>\n",
       "      <td>185660.0</td>\n",
       "      <td>Low</td>\n",
       "    </tr>\n",
       "    <tr>\n",
       "      <th>870</th>\n",
       "      <td>USA</td>\n",
       "      <td>MIT</td>\n",
       "      <td>Massachusetts</td>\n",
       "      <td>Robotics</td>\n",
       "      <td>PhD</td>\n",
       "      <td>5.0</td>\n",
       "      <td>56000</td>\n",
       "      <td>82.1</td>\n",
       "      <td>2100</td>\n",
       "      <td>160</td>\n",
       "      <td>1500</td>\n",
       "      <td>1.0</td>\n",
       "      <td>183660.0</td>\n",
       "      <td>Low</td>\n",
       "    </tr>\n",
       "    <tr>\n",
       "      <th>214</th>\n",
       "      <td>USA</td>\n",
       "      <td>Stanford</td>\n",
       "      <td>Stanford University</td>\n",
       "      <td>Computer Science</td>\n",
       "      <td>Bachelor</td>\n",
       "      <td>4.0</td>\n",
       "      <td>57000</td>\n",
       "      <td>95.2</td>\n",
       "      <td>2400</td>\n",
       "      <td>160</td>\n",
       "      <td>1500</td>\n",
       "      <td>1.0</td>\n",
       "      <td>173860.0</td>\n",
       "      <td>Low</td>\n",
       "    </tr>\n",
       "    <tr>\n",
       "      <th>432</th>\n",
       "      <td>USA</td>\n",
       "      <td>Seattle</td>\n",
       "      <td>University of Washington</td>\n",
       "      <td>Computer Science</td>\n",
       "      <td>PhD</td>\n",
       "      <td>5.0</td>\n",
       "      <td>50000</td>\n",
       "      <td>77.8</td>\n",
       "      <td>2000</td>\n",
       "      <td>160</td>\n",
       "      <td>1500</td>\n",
       "      <td>1.0</td>\n",
       "      <td>171660.0</td>\n",
       "      <td>Low</td>\n",
       "    </tr>\n",
       "    <tr>\n",
       "      <th>905</th>\n",
       "      <td>USA</td>\n",
       "      <td>Seattle</td>\n",
       "      <td>University of Washington</td>\n",
       "      <td>Software Development</td>\n",
       "      <td>PhD</td>\n",
       "      <td>5.0</td>\n",
       "      <td>50000</td>\n",
       "      <td>77.8</td>\n",
       "      <td>2000</td>\n",
       "      <td>160</td>\n",
       "      <td>1500</td>\n",
       "      <td>1.0</td>\n",
       "      <td>171660.0</td>\n",
       "      <td>Low</td>\n",
       "    </tr>\n",
       "    <tr>\n",
       "      <th>215</th>\n",
       "      <td>USA</td>\n",
       "      <td>Cambridge</td>\n",
       "      <td>MIT</td>\n",
       "      <td>Computer Science</td>\n",
       "      <td>Bachelor</td>\n",
       "      <td>4.0</td>\n",
       "      <td>55800</td>\n",
       "      <td>83.5</td>\n",
       "      <td>2300</td>\n",
       "      <td>160</td>\n",
       "      <td>1500</td>\n",
       "      <td>1.0</td>\n",
       "      <td>167860.0</td>\n",
       "      <td>Low</td>\n",
       "    </tr>\n",
       "  </tbody>\n",
       "</table>\n",
       "</div>"
      ]
     },
     "execution_count": 20,
     "metadata": {},
     "output_type": "execute_result"
    }
   ],
   "execution_count": 20
  },
  {
   "metadata": {
    "ExecuteTime": {
     "end_time": "2025-05-14T13:30:32.991283Z",
     "start_time": "2025-05-14T13:30:32.902426Z"
    }
   },
   "cell_type": "code",
   "source": [
    "sns.barplot(data=top_expensive,x='Total_Cost', y='Program', hue='City')\n",
    "plt.title(\"Top 10 most expensive programs in USA\")\n",
    "plt.xlabel(\"Costs (USD)\")\n",
    "plt.ylabel(\"Program\")\n",
    "plt.show()"
   ],
   "id": "be810226b26713e9",
   "outputs": [
    {
     "data": {
      "text/plain": [
       "<Figure size 640x480 with 1 Axes>"
      ],
      "image/png": "[encoded data removed]"
     },
     "metadata": {},
     "output_type": "display_data"
    }
   ],
   "execution_count": 21
  },
  {
   "metadata": {},
   "cell_type": "markdown",
   "source": "---",
   "id": "eb59c95be72cdbf4"
  },
  {
   "metadata": {},
   "cell_type": "markdown",
   "source": "## Which university has the cheapest tuition per duration",
   "id": "96c8c02b2dab6224"
  },
  {
   "metadata": {
    "ExecuteTime": {
     "end_time": "2025-05-14T13:30:37.095664Z",
     "start_time": "2025-05-14T13:30:37.091865Z"
    }
   },
   "cell_type": "code",
   "source": [
    "cost_per_year=(df['Total_Cost']/df['Duration_Years'])\n",
    "cost_per_year.name=\"Cost_per_Year\""
   ],
   "id": "c7dc1083fa703df4",
   "outputs": [],
   "execution_count": 22
  },
  {
   "metadata": {
    "ExecuteTime": {
     "end_time": "2025-05-14T13:30:38.344617Z",
     "start_time": "2025-05-14T13:30:38.341651Z"
    }
   },
   "cell_type": "code",
   "source": "df[\"Cost_per_Year\"]=cost_per_year",
   "id": "9ac69043aeaae4d",
   "outputs": [],
   "execution_count": 23
  },
  {
   "metadata": {
    "ExecuteTime": {
     "end_time": "2025-05-14T13:30:41.817311Z",
     "start_time": "2025-05-14T13:30:41.813244Z"
    }
   },
   "cell_type": "code",
   "source": "uni_cost=df.groupby('University')['Cost_per_Year'].mean().round(2)",
   "id": "a804091f51b75b2",
   "outputs": [],
   "execution_count": 24
  },
  {
   "metadata": {
    "ExecuteTime": {
     "end_time": "2025-05-14T13:30:43.142825Z",
     "start_time": "2025-05-14T13:30:43.138618Z"
    }
   },
   "cell_type": "code",
   "source": "uni_cost.sort_values(ascending=False).head(10)",
   "id": "e591ab55cc807c71",
   "outputs": [
    {
     "data": {
      "text/plain": [
       "University\n",
       "Columbia University          60296.67\n",
       "Imperial College London      56100.00\n",
       "UC Berkeley Extension        55630.00\n",
       "Harvard University           55580.00\n",
       "Northeastern University      53030.00\n",
       "University of Chicago        52096.67\n",
       "University College London    50590.83\n",
       "King's College London        49674.17\n",
       "University of Salford        48285.00\n",
       "UWE Bristol                  47485.00\n",
       "Name: Cost_per_Year, dtype: float64"
      ]
     },
     "execution_count": 25,
     "metadata": {},
     "output_type": "execute_result"
    }
   ],
   "execution_count": 25
  },
  {
   "metadata": {},
   "cell_type": "markdown",
   "source": [
    "## What factors influence the most the total cost?\n",
    "\n"
   ],
   "id": "12949bbac102879e"
  },
  {
   "metadata": {
    "ExecuteTime": {
     "end_time": "2025-05-14T13:30:45.657216Z",
     "start_time": "2025-05-14T13:30:45.654652Z"
    }
   },
   "cell_type": "code",
   "source": [
    "#the value that influence the cost\n",
    "X=df[['Tuition_USD','Rent_USD','Insurance_USD','Visa_Fee_USD','Duration_Years','Living_Cost_Index']]\n",
    "#the target alue\n",
    "Y=df['Total_Cost']"
   ],
   "id": "24c384d5048de0d5",
   "outputs": [],
   "execution_count": 26
  },
  {
   "metadata": {
    "ExecuteTime": {
     "end_time": "2025-05-14T13:30:47.465835Z",
     "start_time": "2025-05-14T13:30:47.460864Z"
    }
   },
   "cell_type": "code",
   "source": [
    "#standardize the columns\n",
    "\n",
    "scaler = StandardScaler()\n",
    "#transform in a Normal ~ (0,1)\n",
    "x_scaled = scaler.fit_transform(X)"
   ],
   "id": "e9f981a000d16c77",
   "outputs": [],
   "execution_count": 27
  },
  {
   "metadata": {
    "ExecuteTime": {
     "end_time": "2025-05-14T13:30:48.875786Z",
     "start_time": "2025-05-14T13:30:48.861324Z"
    }
   },
   "cell_type": "code",
   "source": [
    "model = LinearRegression()\n",
    "#training the model with  standardize data and with the target\n",
    "model.fit(x_scaled,Y)\n",
    "#returns a score from 0-1 which show how good it is with the given data\n",
    "model.score(x_scaled,Y)"
   ],
   "id": "b41bacbb358ba35e",
   "outputs": [
    {
     "data": {
      "text/plain": [
       "96.92649429183187"
      ]
     },
     "execution_count": 28,
     "metadata": {},
     "output_type": "execute_result"
    }
   ],
   "execution_count": 28
  },
  {
   "metadata": {
    "ExecuteTime": {
     "end_time": "2025-05-14T13:31:02.074745Z",
     "start_time": "2025-05-14T13:31:02.068869Z"
    }
   },
   "cell_type": "code",
   "source": [
    "#creates a dataframe with the features and it's coefficient\n",
    "coef_df = pd.DataFrame({\n",
    "    \"Feature\": X.columns,\n",
    "    \"Coefficient\": model.coef_\n",
    "}).sort_values(by=\"Coefficient\", ascending=False)\n",
    "\n",
    "#if the coef is positive -> if the feature raises , the target also raises\n",
    "#if it's negative -> the features raises , the target is lowering\n",
    "coef_df"
   ],
   "id": "c1d801b9c324e11c",
   "outputs": [
    {
     "data": {
      "text/plain": [
       "             Feature   Coefficient\n",
       "1           Rent_USD  17461.056301\n",
       "0        Tuition_USD  17048.772014\n",
       "4     Duration_Years  11637.657148\n",
       "2      Insurance_USD   1734.219964\n",
       "3       Visa_Fee_USD    -58.526897\n",
       "5  Living_Cost_Index   -585.947010"
      ],
      "text/html": [
       "<div>\n",
       "<style scoped>\n",
       "    .dataframe tbody tr th:only-of-type {\n",
       "        vertical-align: middle;\n",
       "    }\n",
       "\n",
       "    .dataframe tbody tr th {\n",
       "        vertical-align: top;\n",
       "    }\n",
       "\n",
       "    .dataframe thead th {\n",
       "        text-align: right;\n",
       "    }\n",
       "</style>\n",
       "<table border=\"1\" class=\"dataframe\">\n",
       "  <thead>\n",
       "    <tr style=\"text-align: right;\">\n",
       "      <th></th>\n",
       "      <th>Feature</th>\n",
       "      <th>Coefficient</th>\n",
       "    </tr>\n",
       "  </thead>\n",
       "  <tbody>\n",
       "    <tr>\n",
       "      <th>1</th>\n",
       "      <td>Rent_USD</td>\n",
       "      <td>17461.056301</td>\n",
       "    </tr>\n",
       "    <tr>\n",
       "      <th>0</th>\n",
       "      <td>Tuition_USD</td>\n",
       "      <td>17048.772014</td>\n",
       "    </tr>\n",
       "    <tr>\n",
       "      <th>4</th>\n",
       "      <td>Duration_Years</td>\n",
       "      <td>11637.657148</td>\n",
       "    </tr>\n",
       "    <tr>\n",
       "      <th>2</th>\n",
       "      <td>Insurance_USD</td>\n",
       "      <td>1734.219964</td>\n",
       "    </tr>\n",
       "    <tr>\n",
       "      <th>3</th>\n",
       "      <td>Visa_Fee_USD</td>\n",
       "      <td>-58.526897</td>\n",
       "    </tr>\n",
       "    <tr>\n",
       "      <th>5</th>\n",
       "      <td>Living_Cost_Index</td>\n",
       "      <td>-585.947010</td>\n",
       "    </tr>\n",
       "  </tbody>\n",
       "</table>\n",
       "</div>"
      ]
     },
     "execution_count": 29,
     "metadata": {},
     "output_type": "execute_result"
    }
   ],
   "execution_count": 29
  }
 ],
 "metadata": {
  "kernelspec": {
   "display_name": "Python 3 (ipykernel)",
   "language": "python",
   "name": "python3"
  },
  "language_info": {
   "codemirror_mode": {
    "name": "ipython",
    "version": 3
   },
   "file_extension": ".py",
   "mimetype": "text/x-python",
   "name": "python",
   "nbconvert_exporter": "python",
   "pygments_lexer": "ipython3",
   "version": "3.12.6"
  }
 },
 "nbformat": 4,
 "nbformat_minor": 5
}
